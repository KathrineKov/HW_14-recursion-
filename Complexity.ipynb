{
 "cells": [
  {
   "cell_type": "code",
   "execution_count": 14,
   "id": "33b47f68-1d5c-4e44-b51f-bee5591f6576",
   "metadata": {
    "tags": []
   },
   "outputs": [],
   "source": [
    "for i in range(n):\n",
    "    i*=i  \n",
    "    if i>=n:\n",
    "        break"
   ]
  },
  {
   "cell_type": "raw",
   "id": "3b1ef026-8d3c-4488-8376-77b2c6f693f1",
   "metadata": {},
   "source": [
    "The loop runs from 0 to n-1, and i is squared on each iteration\n",
    "After squaring, the loop breaks if i >= n\n",
    "\n",
    "Hence, in the worst case, the loop runs approximately √n times because squaring i makes it grow faster. After about √n iterations, i will exceed or equal n\n",
    "\n",
    "Time complexity is O(√n)"
   ]
  },
  {
   "cell_type": "code",
   "execution_count": 15,
   "id": "f006032a-3fff-499c-823a-da584fa93fa7",
   "metadata": {
    "tags": []
   },
   "outputs": [],
   "source": [
    "for i in range(n):\n",
    "    i=pow(2,i)  \n",
    "    if i>(n+1):\n",
    "        break"
   ]
  },
  {
   "cell_type": "raw",
   "id": "4b5b863f-f419-4349-8a7b-22245c6b7236",
   "metadata": {
    "tags": []
   },
   "source": [
    "The loop runs from 0 to n-1, and i is set to 2 raised to the power of the loop index i (i.e., 2^i)\n",
    "If i exceeds n + 1, the loop breaks\n",
    "\n",
    "Hence, value of i grows exponentially (2^i), so the loop terminates much faster than the previous one. The loop breaks when i > n + 1, meaning the maximum number of iterations is around log2(n)\n",
    "\n",
    "Time complexity is O(log n)"
   ]
  },
  {
   "cell_type": "code",
   "execution_count": 16,
   "id": "c012fea4-1b0f-44ca-a580-e85f76daaa1c",
   "metadata": {
    "tags": []
   },
   "outputs": [],
   "source": [
    "def complex_method(n):\n",
    "    for i in range (n):\n",
    "        print (i,n)\n",
    "        if n>1:\n",
    "            complex_method(n-1)\n",
    "        else:\n",
    "            return True"
   ]
  },
  {
   "cell_type": "raw",
   "id": "ae671605-a826-4e7f-8194-a6c395faedc5",
   "metadata": {},
   "source": [
    "This is a recursive function, each call to complex_method, a loop runs n times, and then the function recursively calls itself with n-1\n",
    "\n",
    "The recursive call happens n times, and each call has a loop of length n, n-1, ..., down to 1. This gives a time complexity of O(n!) since each level of recursion has to process n elements\n",
    "\n",
    "Time complexity is O(n!)"
   ]
  }
 ],
 "metadata": {
  "kernelspec": {
   "display_name": "Python 3 (ipykernel)",
   "language": "python",
   "name": "python3"
  },
  "language_info": {
   "codemirror_mode": {
    "name": "ipython",
    "version": 3
   },
   "file_extension": ".py",
   "mimetype": "text/x-python",
   "name": "python",
   "nbconvert_exporter": "python",
   "pygments_lexer": "ipython3",
   "version": "3.10.8"
  }
 },
 "nbformat": 4,
 "nbformat_minor": 5
}
